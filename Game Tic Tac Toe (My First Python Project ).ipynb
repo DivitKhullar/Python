{
 "cells": [
  {
   "cell_type": "markdown",
   "metadata": {},
   "source": [
    "# Project 1: Tic Tac Toe Game\n",
    "\n"
   ]
  },
  {
   "cell_type": "markdown",
   "metadata": {},
   "source": [
    "**Function 1: Function that can print out a board.**"
   ]
  },
  {
   "cell_type": "code",
   "execution_count": null,
   "metadata": {},
   "outputs": [],
   "source": [
    "from IPython.display import clear_output\n",
    "\n",
    "def display_board(board):\n",
    "    clear_output()\n",
    "    print(board[7]+\"|\"+board[8]+\"|\"+board[9])\n",
    "    print(\"-----\")\n",
    "    print(board[4]+\"|\"+board[5]+\"|\"+board[6])\n",
    "    print(\"-----\")\n",
    "    print(board[1]+\"|\"+board[2]+\"|\"+board[3])"
   ]
  },
  {
   "cell_type": "markdown",
   "metadata": {},
   "source": [
    "**Function 2: Function that can take in a player input and assign their marker as 'X' or 'O'.**"
   ]
  },
  {
   "cell_type": "code",
   "execution_count": null,
   "metadata": {},
   "outputs": [],
   "source": [
    "def player_input():\n",
    "    marker = \" \"\n",
    "    \n",
    "    while not (marker == 'X' or marker == \"O\"):\n",
    "        marker = input(\"Player 1 Choose your marker either X or O:\").upper()\n",
    "        \n",
    "        if marker == \"O\":\n",
    "            return (\"O\",\"X\")\n",
    "        else:\n",
    "            return (\"X\",\"O\")"
   ]
  },
  {
   "cell_type": "markdown",
   "metadata": {},
   "source": [
    "**Function 3: Function that takes in the board list object, a marker ('X' or 'O'), and a desired position (number 1-9) and assigns it to the board.**"
   ]
  },
  {
   "cell_type": "code",
   "execution_count": null,
   "metadata": {},
   "outputs": [],
   "source": [
    "def place_marker(board,marker,position):\n",
    "    board[position] = marker"
   ]
  },
  {
   "cell_type": "markdown",
   "metadata": {},
   "source": [
    "**Function 4: Function that takes in a board and a mark (X or O) and then checks to see if that mark has won.**"
   ]
  },
  {
   "cell_type": "code",
   "execution_count": null,
   "metadata": {},
   "outputs": [],
   "source": [
    "def win_check(board, marker):\n",
    "    return ((board[7] == marker and board[8] == marker and board[9] == marker) or \n",
    "           (board[4] == marker and board[5] == marker and board[6] == marker) or\n",
    "           (board[1] == marker and board[2] == marker and board[3] == marker) or\n",
    "           (board[7] == marker and board[4] == marker and board[1] == marker) or\n",
    "           (board[8] == marker and board[5] == marker and board[2] == marker) or\n",
    "           (board[9] == marker and board[6] == marker and board[3] == marker) or\n",
    "           (board[7] == marker and board[5] == marker and board[3] == marker) or\n",
    "           (board[1] == marker and board[5] == marker and board[9] == marker)) "
   ]
  },
  {
   "cell_type": "markdown",
   "metadata": {},
   "source": [
    "**Function 5: Function that uses the random module to randomly decide which player goes first.**"
   ]
  },
  {
   "cell_type": "code",
   "execution_count": null,
   "metadata": {},
   "outputs": [],
   "source": [
    "import random\n",
    "\n",
    "def choose_first():\n",
    "    if random.randint(0,1) == 0:\n",
    "        return \"Player 1\"\n",
    "    else:\n",
    "        return \"Player 2\"   "
   ]
  },
  {
   "cell_type": "markdown",
   "metadata": {},
   "source": [
    "**Function 6: Function that returns a boolean indicating whether a space on the board is freely available or not.**"
   ]
  },
  {
   "cell_type": "code",
   "execution_count": null,
   "metadata": {},
   "outputs": [],
   "source": [
    "def space_check(board, position):\n",
    "    \n",
    "    return board[position] == \" \""
   ]
  },
  {
   "cell_type": "markdown",
   "metadata": {},
   "source": [
    "**Function 7: Function that checks if the board is full or not.**"
   ]
  },
  {
   "cell_type": "code",
   "execution_count": null,
   "metadata": {},
   "outputs": [],
   "source": [
    "def full_board_check(board):\n",
    "    for i in range(1,10):\n",
    "        if space_check(board,i):\n",
    "            return False\n",
    "    return True"
   ]
  },
  {
   "cell_type": "markdown",
   "metadata": {},
   "source": [
    "**Function 8: Function that asks for a player's next position.**"
   ]
  },
  {
   "cell_type": "code",
   "execution_count": null,
   "metadata": {},
   "outputs": [],
   "source": [
    "def player_choice(board):\n",
    "    position = 0\n",
    "    while position not in range(1,10) or not space_check(board, position):\n",
    "        position = int(input(\"Enter your position please:\"))\n",
    "        \n",
    "    return position"
   ]
  },
  {
   "cell_type": "markdown",
   "metadata": {},
   "source": [
    "**Function 9: Function that asks the player if they want to play again or not.**"
   ]
  },
  {
   "cell_type": "code",
   "execution_count": null,
   "metadata": {},
   "outputs": [],
   "source": [
    "def replay():\n",
    "    valid = True\n",
    "    while valid == True:\n",
    "    \n",
    "        ans = input(\"Do you want to play more? enter Yes or No :\").lower()\n",
    "        if ans[0] == \"y\":\n",
    "            return True\n",
    "        elif ans[0] == \"n\":\n",
    "            return False\n",
    "        else:\n",
    "            print(\"ERROR! Please enter a valid input only.\")\n",
    "            print(\"TRY AGAIN!\")"
   ]
  },
  {
   "cell_type": "markdown",
   "metadata": {
    "collapsed": true
   },
   "source": [
    "**Main Body of the Tic Tac Toe Game.**"
   ]
  },
  {
   "cell_type": "code",
   "execution_count": null,
   "metadata": {},
   "outputs": [],
   "source": [
    "print(\"Welcome to the Game!\")\n",
    "\n",
    "while True:\n",
    "    theboard = [\" \"] * 10\n",
    "    player1_marker, player2_marker = player_input()\n",
    "    turn = choose_first()\n",
    "    print(turn + \" Will go First!\")\n",
    "    \n",
    "    play_game = input('Are you ready to play? Enter Yes or No: ')\n",
    "    \n",
    "    if play_game.lower()[0] == 'n':\n",
    "        game_on = False\n",
    "    else:\n",
    "        game_on = True\n",
    "        \n",
    "        while game_on is True:\n",
    "            \n",
    "            if turn == \"Player 1\":\n",
    "                #Player 1 Turn\n",
    "                \n",
    "                display_board(theboard)\n",
    "                position = player_choice(theboard)\n",
    "                place_marker(theboard,player1_marker,position)\n",
    "                \n",
    "                if win_check(theboard, player1_marker) :\n",
    "                    display_board(theboard)\n",
    "                    print(\"Congratulation Player 1 has WON the Game!\")\n",
    "                    game_on = False\n",
    "                    \n",
    "                else:\n",
    "                    if full_board_check(theboard):\n",
    "                        display_board(theboard)\n",
    "                        print(\"The Match is a Draw!\")\n",
    "                        break\n",
    "                    \n",
    "                    else:\n",
    "                        turn = \"Player 2\"\n",
    "            else:\n",
    "                #Player 2 Turn\n",
    "                \n",
    "                display_board(theboard)\n",
    "                position = player_choice(theboard)\n",
    "                place_marker(theboard,player2_marker,position)\n",
    "                \n",
    "                if win_check(theboard, player2_marker) == True:\n",
    "                    display_board(theboard)\n",
    "                    print(\"Congratulation Player 2 has WON the Game!\")\n",
    "                    game_on = False\n",
    "                    \n",
    "                else:\n",
    "                    if full_board_check(theboard):\n",
    "                        display_board(theboard)\n",
    "                        print(\"The Match is a Draw!\")\n",
    "                        break\n",
    "                    \n",
    "                    else:\n",
    "                        turn = \"Player 1\"\n",
    "                    \n",
    "    if not replay():\n",
    "        break\n",
    "                "
   ]
  },
  {
   "cell_type": "code",
   "execution_count": null,
   "metadata": {},
   "outputs": [],
   "source": []
  }
 ],
 "metadata": {
  "kernelspec": {
   "display_name": "Python 3",
   "language": "python",
   "name": "python3"
  },
  "language_info": {
   "codemirror_mode": {
    "name": "ipython",
    "version": 3
   },
   "file_extension": ".py",
   "mimetype": "text/x-python",
   "name": "python",
   "nbconvert_exporter": "python",
   "pygments_lexer": "ipython3",
   "version": "3.7.0"
  }
 },
 "nbformat": 4,
 "nbformat_minor": 1
}
